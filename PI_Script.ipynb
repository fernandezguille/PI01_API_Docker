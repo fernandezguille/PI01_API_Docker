{
 "cells": [
  {
   "cell_type": "markdown",
   "metadata": {},
   "source": [
    "# Proyecto Individual 01 de Henry por Guillermo Fernandez"
   ]
  },
  {
   "cell_type": "markdown",
   "metadata": {},
   "source": [
    "#### Importar librerías necesarias"
   ]
  },
  {
   "cell_type": "code",
   "execution_count": 2,
   "metadata": {},
   "outputs": [],
   "source": [
    "# Librería para trabajar con los datasets\n",
    "import pandas as pd\n",
    "import numpy as np\n",
    "\n",
    "# Módulo para trabajar con rutas de archivo\n",
    "from pathlib import Path\n",
    "\n",
    "# Librería para identificar encondings\n",
    "import chardet\n",
    "\n",
    "# Librería y módulos para cargar datasets en MySQL\n",
    "import pymysql\n",
    "from sqlalchemy.engine import create_engine\n",
    "from urllib.parse import quote_plus as urlquote\n",
    "from Pass_SQL import contraseña"
   ]
  },
  {
   "cell_type": "markdown",
   "metadata": {},
   "source": [
    "#### Crear una función para importar los datasets"
   ]
  },
  {
   "cell_type": "code",
   "execution_count": 78,
   "metadata": {},
   "outputs": [],
   "source": [
    "def upload(filepath):\n",
    "    with open(filepath, 'rb') as file:\n",
    "        result = chardet.detect(file.read())\n",
    "        # Para importar archivos csv, detectando encoding\n",
    "        if Path(filepath).suffix == \".csv\": \n",
    "            DF = pd.read_csv(filepath, encoding=result['encoding'])\n",
    "        # Para importar archivos json\n",
    "        elif Path(filepath).suffix == \".json\": \n",
    "            DF = pd.read_json(filepath) \n",
    "    return DF"
   ]
  },
  {
   "cell_type": "markdown",
   "metadata": {},
   "source": [
    "#### Cargar los datasets y explorarlos (EDA)"
   ]
  },
  {
   "cell_type": "markdown",
   "metadata": {},
   "source": [
    "###### Comenzar con amazon"
   ]
  },
  {
   "cell_type": "code",
   "execution_count": 79,
   "metadata": {},
   "outputs": [],
   "source": [
    "# Cargamos el dataset\n",
    "amazon_df = upload(r'C:\\Users\\eugen\\Documents\\Guille\\Bootcamp\\Databootcamp\\PI01_DATA05\\Datasets\\amazon_prime_titles.csv')"
   ]
  },
  {
   "cell_type": "code",
   "execution_count": 80,
   "metadata": {},
   "outputs": [
    {
     "data": {
      "text/html": [
       "<div>\n",
       "<style scoped>\n",
       "    .dataframe tbody tr th:only-of-type {\n",
       "        vertical-align: middle;\n",
       "    }\n",
       "\n",
       "    .dataframe tbody tr th {\n",
       "        vertical-align: top;\n",
       "    }\n",
       "\n",
       "    .dataframe thead th {\n",
       "        text-align: right;\n",
       "    }\n",
       "</style>\n",
       "<table border=\"1\" class=\"dataframe\">\n",
       "  <thead>\n",
       "    <tr style=\"text-align: right;\">\n",
       "      <th></th>\n",
       "      <th>show_id</th>\n",
       "      <th>type</th>\n",
       "      <th>title</th>\n",
       "      <th>director</th>\n",
       "      <th>cast</th>\n",
       "      <th>country</th>\n",
       "      <th>date_added</th>\n",
       "      <th>release_year</th>\n",
       "      <th>rating</th>\n",
       "      <th>duration</th>\n",
       "      <th>listed_in</th>\n",
       "      <th>description</th>\n",
       "    </tr>\n",
       "  </thead>\n",
       "  <tbody>\n",
       "    <tr>\n",
       "      <th>5631</th>\n",
       "      <td>s5632</td>\n",
       "      <td>TV Show</td>\n",
       "      <td>Head Above Water</td>\n",
       "      <td>NaN</td>\n",
       "      <td>Bronte Campbell, Kyle Chalmers, Cody Simpson, ...</td>\n",
       "      <td>NaN</td>\n",
       "      <td>NaN</td>\n",
       "      <td>2021</td>\n",
       "      <td>TV-MA</td>\n",
       "      <td>1 Season</td>\n",
       "      <td>Sports</td>\n",
       "      <td>A peek inside the life of an Olympic swimmer t...</td>\n",
       "    </tr>\n",
       "  </tbody>\n",
       "</table>\n",
       "</div>"
      ],
      "text/plain": [
       "     show_id     type             title director  \\\n",
       "5631   s5632  TV Show  Head Above Water      NaN   \n",
       "\n",
       "                                                   cast country date_added  \\\n",
       "5631  Bronte Campbell, Kyle Chalmers, Cody Simpson, ...     NaN        NaN   \n",
       "\n",
       "      release_year rating  duration listed_in  \\\n",
       "5631          2021  TV-MA  1 Season    Sports   \n",
       "\n",
       "                                            description  \n",
       "5631  A peek inside the life of an Olympic swimmer t...  "
      ]
     },
     "execution_count": 80,
     "metadata": {},
     "output_type": "execute_result"
    }
   ],
   "source": [
    "# Tomamos una fila al azar para analizarlo\n",
    "amazon_df.sample(1)"
   ]
  },
  {
   "cell_type": "code",
   "execution_count": 81,
   "metadata": {},
   "outputs": [],
   "source": [
    "# Eliminamos los datos duplicados\n",
    "amazon_df.drop_duplicates();"
   ]
  },
  {
   "cell_type": "code",
   "execution_count": 82,
   "metadata": {},
   "outputs": [
    {
     "name": "stdout",
     "output_type": "stream",
     "text": [
      "<class 'pandas.core.frame.DataFrame'>\n",
      "RangeIndex: 9668 entries, 0 to 9667\n",
      "Data columns (total 12 columns):\n",
      " #   Column        Non-Null Count  Dtype \n",
      "---  ------        --------------  ----- \n",
      " 0   show_id       9668 non-null   object\n",
      " 1   type          9668 non-null   object\n",
      " 2   title         9668 non-null   object\n",
      " 3   director      7586 non-null   object\n",
      " 4   cast          8435 non-null   object\n",
      " 5   country       672 non-null    object\n",
      " 6   date_added    155 non-null    object\n",
      " 7   release_year  9668 non-null   int64 \n",
      " 8   rating        9331 non-null   object\n",
      " 9   duration      9668 non-null   object\n",
      " 10  listed_in     9668 non-null   object\n",
      " 11  description   9668 non-null   object\n",
      "dtypes: int64(1), object(11)\n",
      "memory usage: 906.5+ KB\n"
     ]
    }
   ],
   "source": [
    "# Evaluamos información del dataset, como Dtype y nulos\n",
    "amazon_df.info()"
   ]
  },
  {
   "cell_type": "markdown",
   "metadata": {},
   "source": [
    "###### Seguir con Disney"
   ]
  },
  {
   "cell_type": "code",
   "execution_count": 83,
   "metadata": {},
   "outputs": [],
   "source": [
    "# Realizamos los mismos pasos que en amazon\n",
    "disney_df = upload(r'C:\\Users\\eugen\\Documents\\Guille\\Bootcamp\\Databootcamp\\PI01_DATA05\\Datasets\\disney_plus_titles.csv')"
   ]
  },
  {
   "cell_type": "code",
   "execution_count": 84,
   "metadata": {},
   "outputs": [],
   "source": [
    "disney_df.drop_duplicates();"
   ]
  },
  {
   "cell_type": "code",
   "execution_count": 85,
   "metadata": {},
   "outputs": [
    {
     "data": {
      "text/html": [
       "<div>\n",
       "<style scoped>\n",
       "    .dataframe tbody tr th:only-of-type {\n",
       "        vertical-align: middle;\n",
       "    }\n",
       "\n",
       "    .dataframe tbody tr th {\n",
       "        vertical-align: top;\n",
       "    }\n",
       "\n",
       "    .dataframe thead th {\n",
       "        text-align: right;\n",
       "    }\n",
       "</style>\n",
       "<table border=\"1\" class=\"dataframe\">\n",
       "  <thead>\n",
       "    <tr style=\"text-align: right;\">\n",
       "      <th></th>\n",
       "      <th>show_id</th>\n",
       "      <th>type</th>\n",
       "      <th>title</th>\n",
       "      <th>director</th>\n",
       "      <th>cast</th>\n",
       "      <th>country</th>\n",
       "      <th>date_added</th>\n",
       "      <th>release_year</th>\n",
       "      <th>rating</th>\n",
       "      <th>duration</th>\n",
       "      <th>listed_in</th>\n",
       "      <th>description</th>\n",
       "    </tr>\n",
       "  </thead>\n",
       "  <tbody>\n",
       "    <tr>\n",
       "      <th>1215</th>\n",
       "      <td>s1216</td>\n",
       "      <td>Movie</td>\n",
       "      <td>Star Wars: Revenge of the Sith (Episode III)</td>\n",
       "      <td>George Lucas</td>\n",
       "      <td>Ewan McGregor, Natalie Portman, Hayden Christe...</td>\n",
       "      <td>United States</td>\n",
       "      <td>November 12, 2019</td>\n",
       "      <td>2005</td>\n",
       "      <td>PG-13</td>\n",
       "      <td>140 min</td>\n",
       "      <td>Action-Adventure, Science Fiction</td>\n",
       "      <td>As the Republic falls, Anakin Skywalker become...</td>\n",
       "    </tr>\n",
       "  </tbody>\n",
       "</table>\n",
       "</div>"
      ],
      "text/plain": [
       "     show_id   type                                         title  \\\n",
       "1215   s1216  Movie  Star Wars: Revenge of the Sith (Episode III)   \n",
       "\n",
       "          director                                               cast  \\\n",
       "1215  George Lucas  Ewan McGregor, Natalie Portman, Hayden Christe...   \n",
       "\n",
       "            country         date_added  release_year rating duration  \\\n",
       "1215  United States  November 12, 2019          2005  PG-13  140 min   \n",
       "\n",
       "                              listed_in  \\\n",
       "1215  Action-Adventure, Science Fiction   \n",
       "\n",
       "                                            description  \n",
       "1215  As the Republic falls, Anakin Skywalker become...  "
      ]
     },
     "execution_count": 85,
     "metadata": {},
     "output_type": "execute_result"
    }
   ],
   "source": [
    "disney_df.sample(1)"
   ]
  },
  {
   "cell_type": "code",
   "execution_count": 86,
   "metadata": {},
   "outputs": [
    {
     "name": "stdout",
     "output_type": "stream",
     "text": [
      "<class 'pandas.core.frame.DataFrame'>\n",
      "RangeIndex: 1450 entries, 0 to 1449\n",
      "Data columns (total 12 columns):\n",
      " #   Column        Non-Null Count  Dtype \n",
      "---  ------        --------------  ----- \n",
      " 0   show_id       1450 non-null   object\n",
      " 1   type          1450 non-null   object\n",
      " 2   title         1450 non-null   object\n",
      " 3   director      977 non-null    object\n",
      " 4   cast          1260 non-null   object\n",
      " 5   country       1231 non-null   object\n",
      " 6   date_added    1447 non-null   object\n",
      " 7   release_year  1450 non-null   int64 \n",
      " 8   rating        1447 non-null   object\n",
      " 9   duration      1450 non-null   object\n",
      " 10  listed_in     1450 non-null   object\n",
      " 11  description   1450 non-null   object\n",
      "dtypes: int64(1), object(11)\n",
      "memory usage: 136.1+ KB\n"
     ]
    }
   ],
   "source": [
    "disney_df.info()"
   ]
  },
  {
   "cell_type": "markdown",
   "metadata": {},
   "source": [
    "###### Seguir con Hulu"
   ]
  },
  {
   "cell_type": "code",
   "execution_count": 87,
   "metadata": {},
   "outputs": [],
   "source": [
    "# Nuevamente, con Hulu\n",
    "hulu_df = upload(r'C:\\Users\\eugen\\Documents\\Guille\\Bootcamp\\Databootcamp\\PI01_DATA05\\Datasets\\hulu_titles.csv')"
   ]
  },
  {
   "cell_type": "code",
   "execution_count": 88,
   "metadata": {},
   "outputs": [
    {
     "data": {
      "text/html": [
       "<div>\n",
       "<style scoped>\n",
       "    .dataframe tbody tr th:only-of-type {\n",
       "        vertical-align: middle;\n",
       "    }\n",
       "\n",
       "    .dataframe tbody tr th {\n",
       "        vertical-align: top;\n",
       "    }\n",
       "\n",
       "    .dataframe thead th {\n",
       "        text-align: right;\n",
       "    }\n",
       "</style>\n",
       "<table border=\"1\" class=\"dataframe\">\n",
       "  <thead>\n",
       "    <tr style=\"text-align: right;\">\n",
       "      <th></th>\n",
       "      <th>show_id</th>\n",
       "      <th>type</th>\n",
       "      <th>title</th>\n",
       "      <th>director</th>\n",
       "      <th>cast</th>\n",
       "      <th>country</th>\n",
       "      <th>date_added</th>\n",
       "      <th>release_year</th>\n",
       "      <th>rating</th>\n",
       "      <th>duration</th>\n",
       "      <th>listed_in</th>\n",
       "      <th>description</th>\n",
       "    </tr>\n",
       "  </thead>\n",
       "  <tbody>\n",
       "    <tr>\n",
       "      <th>2270</th>\n",
       "      <td>s2271</td>\n",
       "      <td>Movie</td>\n",
       "      <td>False Flag</td>\n",
       "      <td>NaN</td>\n",
       "      <td>NaN</td>\n",
       "      <td>Israel</td>\n",
       "      <td>February 14, 2019</td>\n",
       "      <td>2015</td>\n",
       "      <td>2 Seasons</td>\n",
       "      <td>NaN</td>\n",
       "      <td>Action, Adventure, Drama</td>\n",
       "      <td>Five Israeli citizens find themselves plunged ...</td>\n",
       "    </tr>\n",
       "  </tbody>\n",
       "</table>\n",
       "</div>"
      ],
      "text/plain": [
       "     show_id   type       title director  cast country         date_added  \\\n",
       "2270   s2271  Movie  False Flag      NaN   NaN  Israel  February 14, 2019   \n",
       "\n",
       "      release_year     rating duration                 listed_in  \\\n",
       "2270          2015  2 Seasons      NaN  Action, Adventure, Drama   \n",
       "\n",
       "                                            description  \n",
       "2270  Five Israeli citizens find themselves plunged ...  "
      ]
     },
     "execution_count": 88,
     "metadata": {},
     "output_type": "execute_result"
    }
   ],
   "source": [
    "hulu_df.sample(1)"
   ]
  },
  {
   "cell_type": "code",
   "execution_count": 89,
   "metadata": {},
   "outputs": [
    {
     "name": "stdout",
     "output_type": "stream",
     "text": [
      "<class 'pandas.core.frame.DataFrame'>\n",
      "RangeIndex: 3073 entries, 0 to 3072\n",
      "Data columns (total 12 columns):\n",
      " #   Column        Non-Null Count  Dtype  \n",
      "---  ------        --------------  -----  \n",
      " 0   show_id       3073 non-null   object \n",
      " 1   type          3073 non-null   object \n",
      " 2   title         3073 non-null   object \n",
      " 3   director      3 non-null      object \n",
      " 4   cast          0 non-null      float64\n",
      " 5   country       1620 non-null   object \n",
      " 6   date_added    3045 non-null   object \n",
      " 7   release_year  3073 non-null   int64  \n",
      " 8   rating        2553 non-null   object \n",
      " 9   duration      2594 non-null   object \n",
      " 10  listed_in     3073 non-null   object \n",
      " 11  description   3069 non-null   object \n",
      "dtypes: float64(1), int64(1), object(10)\n",
      "memory usage: 288.2+ KB\n"
     ]
    }
   ],
   "source": [
    "hulu_df.info()"
   ]
  },
  {
   "cell_type": "markdown",
   "metadata": {},
   "source": [
    "###### Por último, cargar Netflix"
   ]
  },
  {
   "cell_type": "code",
   "execution_count": 90,
   "metadata": {},
   "outputs": [],
   "source": [
    "# Finalizamos con Netflix\n",
    "netflix_df = upload(r'C:\\Users\\eugen\\Documents\\Guille\\Bootcamp\\Databootcamp\\PI01_DATA05\\Datasets\\netflix_titles.json')"
   ]
  },
  {
   "cell_type": "code",
   "execution_count": 91,
   "metadata": {},
   "outputs": [
    {
     "data": {
      "text/html": [
       "<div>\n",
       "<style scoped>\n",
       "    .dataframe tbody tr th:only-of-type {\n",
       "        vertical-align: middle;\n",
       "    }\n",
       "\n",
       "    .dataframe tbody tr th {\n",
       "        vertical-align: top;\n",
       "    }\n",
       "\n",
       "    .dataframe thead th {\n",
       "        text-align: right;\n",
       "    }\n",
       "</style>\n",
       "<table border=\"1\" class=\"dataframe\">\n",
       "  <thead>\n",
       "    <tr style=\"text-align: right;\">\n",
       "      <th></th>\n",
       "      <th>show_id</th>\n",
       "      <th>type</th>\n",
       "      <th>title</th>\n",
       "      <th>director</th>\n",
       "      <th>cast</th>\n",
       "      <th>country</th>\n",
       "      <th>date_added</th>\n",
       "      <th>release_year</th>\n",
       "      <th>rating</th>\n",
       "      <th>duration</th>\n",
       "      <th>listed_in</th>\n",
       "      <th>description</th>\n",
       "    </tr>\n",
       "  </thead>\n",
       "  <tbody>\n",
       "    <tr>\n",
       "      <th>5386</th>\n",
       "      <td>s5387</td>\n",
       "      <td>TV Show</td>\n",
       "      <td>The Legend of Bruce Lee</td>\n",
       "      <td>None</td>\n",
       "      <td>Danny Chan, Michelle Lang, Ted Duran, Hazen Ma...</td>\n",
       "      <td>China</td>\n",
       "      <td>July 7, 2017</td>\n",
       "      <td>2008</td>\n",
       "      <td>TV-14</td>\n",
       "      <td>1 Season</td>\n",
       "      <td>International TV Shows, TV Action &amp; Adventure,...</td>\n",
       "      <td>The brief but spectacular career of martial ar...</td>\n",
       "    </tr>\n",
       "  </tbody>\n",
       "</table>\n",
       "</div>"
      ],
      "text/plain": [
       "     show_id     type                    title director  \\\n",
       "5386   s5387  TV Show  The Legend of Bruce Lee     None   \n",
       "\n",
       "                                                   cast country    date_added  \\\n",
       "5386  Danny Chan, Michelle Lang, Ted Duran, Hazen Ma...   China  July 7, 2017   \n",
       "\n",
       "      release_year rating  duration  \\\n",
       "5386          2008  TV-14  1 Season   \n",
       "\n",
       "                                              listed_in  \\\n",
       "5386  International TV Shows, TV Action & Adventure,...   \n",
       "\n",
       "                                            description  \n",
       "5386  The brief but spectacular career of martial ar...  "
      ]
     },
     "execution_count": 91,
     "metadata": {},
     "output_type": "execute_result"
    }
   ],
   "source": [
    "netflix_df.sample(1)"
   ]
  },
  {
   "cell_type": "code",
   "execution_count": 92,
   "metadata": {},
   "outputs": [
    {
     "name": "stdout",
     "output_type": "stream",
     "text": [
      "<class 'pandas.core.frame.DataFrame'>\n",
      "Int64Index: 8807 entries, 0 to 8806\n",
      "Data columns (total 12 columns):\n",
      " #   Column        Non-Null Count  Dtype \n",
      "---  ------        --------------  ----- \n",
      " 0   show_id       8807 non-null   object\n",
      " 1   type          8807 non-null   object\n",
      " 2   title         8807 non-null   object\n",
      " 3   director      6173 non-null   object\n",
      " 4   cast          7982 non-null   object\n",
      " 5   country       7976 non-null   object\n",
      " 6   date_added    8797 non-null   object\n",
      " 7   release_year  8807 non-null   int64 \n",
      " 8   rating        8803 non-null   object\n",
      " 9   duration      8804 non-null   object\n",
      " 10  listed_in     8807 non-null   object\n",
      " 11  description   8807 non-null   object\n",
      "dtypes: int64(1), object(11)\n",
      "memory usage: 894.5+ KB\n"
     ]
    }
   ],
   "source": [
    "netflix_df.info()"
   ]
  },
  {
   "cell_type": "markdown",
   "metadata": {},
   "source": [
    "### Conclusiones:\n",
    "* "
   ]
  },
  {
   "cell_type": "markdown",
   "metadata": {},
   "source": [
    "#### Unir los 4 datasets"
   ]
  },
  {
   "cell_type": "code",
   "execution_count": 93,
   "metadata": {},
   "outputs": [],
   "source": [
    "# Crear una columna con el nombre de la plataforma en cada Dataset\n",
    "amazon_df['Platform'] = 'Amazon'\n",
    "disney_df['Platform'] = 'Disney'\n",
    "hulu_df['Platform'] = 'Hulu'\n",
    "netflix_df['Platform'] = 'Netflix'"
   ]
  },
  {
   "cell_type": "code",
   "execution_count": 96,
   "metadata": {},
   "outputs": [],
   "source": [
    "# Crear un dataset que una todos los otros datasets\n",
    "Platform = [disney_df, hulu_df, netflix_df]\n",
    "Titles_df = amazon_df\n",
    "for element in Platform:\n",
    "    Titles_df = pd.concat([Titles_df, element])\n",
    "del Platform"
   ]
  },
  {
   "cell_type": "code",
   "execution_count": 141,
   "metadata": {},
   "outputs": [
    {
     "name": "stdout",
     "output_type": "stream",
     "text": [
      "<class 'pandas.core.frame.DataFrame'>\n",
      "RangeIndex: 22998 entries, 0 to 22997\n",
      "Data columns (total 14 columns):\n",
      " #   Column        Non-Null Count  Dtype \n",
      "---  ------        --------------  ----- \n",
      " 0   index         22998 non-null  int64 \n",
      " 1   show_id       22998 non-null  object\n",
      " 2   type          22998 non-null  object\n",
      " 3   title         22998 non-null  object\n",
      " 4   director      22998 non-null  object\n",
      " 5   cast          22998 non-null  object\n",
      " 6   country       22998 non-null  object\n",
      " 7   date_added    22998 non-null  object\n",
      " 8   release_year  22998 non-null  int64 \n",
      " 9   rating        22998 non-null  object\n",
      " 10  duration      22516 non-null  object\n",
      " 11  listed_in     22998 non-null  object\n",
      " 12  description   22998 non-null  object\n",
      " 13  Platform      22998 non-null  object\n",
      "dtypes: int64(2), object(12)\n",
      "memory usage: 2.5+ MB\n"
     ]
    }
   ],
   "source": [
    "# Exploramos el dataset que incluye a todos\n",
    "Titles_df.info()"
   ]
  },
  {
   "cell_type": "code",
   "execution_count": 110,
   "metadata": {},
   "outputs": [],
   "source": [
    "# Reseteamos indices, para evitar errores\n",
    "Titles_df.reset_index(inplace=True)"
   ]
  },
  {
   "cell_type": "markdown",
   "metadata": {},
   "source": [
    "#### Realizar una parte del ETL en Python"
   ]
  },
  {
   "cell_type": "code",
   "execution_count": 131,
   "metadata": {},
   "outputs": [
    {
     "data": {
      "text/plain": [
       "['index',\n",
       " 'show_id',\n",
       " 'type',\n",
       " 'title',\n",
       " 'director',\n",
       " 'cast',\n",
       " 'country',\n",
       " 'date_added',\n",
       " 'release_year',\n",
       " 'rating',\n",
       " 'listed_in',\n",
       " 'description',\n",
       " 'Platform']"
      ]
     },
     "execution_count": 131,
     "metadata": {},
     "output_type": "execute_result"
    }
   ],
   "source": [
    "# Tomamos todas las columnas del Dataset, excepto duration\n",
    "Columnas = list(Titles_df.columns)\n",
    "Columnas.remove('duration')\n",
    "Columnas"
   ]
  },
  {
   "cell_type": "code",
   "execution_count": 132,
   "metadata": {},
   "outputs": [],
   "source": [
    "# Rellenamos los valores nulos\n",
    "for _, e in enumerate(Columnas):\n",
    "    Titles_df[e].fillna(\"Sin_datos\", inplace=True)"
   ]
  },
  {
   "cell_type": "markdown",
   "metadata": {},
   "source": [
    "#### Realizar la carga de los datos en MySQL"
   ]
  },
  {
   "cell_type": "markdown",
   "metadata": {},
   "source": [
    "###### Primero debemos crear la Base de Datos, con el archivo ETL_Script.sql"
   ]
  },
  {
   "cell_type": "code",
   "execution_count": 4,
   "metadata": {},
   "outputs": [],
   "source": [
    "# Utilizamos la conexion al servidor de MySQL para cargar los datasets a la base de datos\n",
    "str_conexion = 'mysql+pymysql://root:%s@localhost:3306/PI01' % urlquote(contraseña())\n",
    "conexion = create_engine(str_conexion)"
   ]
  },
  {
   "cell_type": "code",
   "execution_count": null,
   "metadata": {},
   "outputs": [],
   "source": [
    "# Cargamos el dataset en una tabla\n",
    "Titles_df.to_sql(name='title', con=conexion)"
   ]
  },
  {
   "attachments": {},
   "cell_type": "markdown",
   "metadata": {},
   "source": [
    "#### Luego de realizar transformaciones en SQL, cargar la Base de datos limpia"
   ]
  },
  {
   "cell_type": "code",
   "execution_count": null,
   "metadata": {},
   "outputs": [],
   "source": [
    "# Cargamos el Dataframe limpio\n",
    "sql_query = pd.read_sql_query('SELECT * FROM title', conexion)\n",
    "Titles_df = pd.DataFrame(sql_query);"
   ]
  },
  {
   "cell_type": "code",
   "execution_count": 8,
   "metadata": {},
   "outputs": [],
   "source": [
    "# Pasamos a CSV para consumirlo con la API\n",
    "Titles_df.to_csv(r'C:\\Users\\eugen\\Documents\\Guille\\Bootcamp\\PI01_DATA05\\Datasets\\All_titles.csv', index=False)"
   ]
  }
 ],
 "metadata": {
  "kernelspec": {
   "display_name": "Python 3.10.5 64-bit",
   "language": "python",
   "name": "python3"
  },
  "language_info": {
   "codemirror_mode": {
    "name": "ipython",
    "version": 3
   },
   "file_extension": ".py",
   "mimetype": "text/x-python",
   "name": "python",
   "nbconvert_exporter": "python",
   "pygments_lexer": "ipython3",
   "version": "3.10.5"
  },
  "orig_nbformat": 4,
  "vscode": {
   "interpreter": {
    "hash": "8030d4c8b54922542ddcca872d6eaa3b90843e3fd85d80bb02c262de6532e63b"
   }
  }
 },
 "nbformat": 4,
 "nbformat_minor": 2
}
