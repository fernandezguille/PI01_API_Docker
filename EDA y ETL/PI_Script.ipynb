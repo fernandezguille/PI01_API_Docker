{
 "cells": [
  {
   "cell_type": "markdown",
   "metadata": {},
   "source": [
    "# Proyecto Individual 01 de Henry por Guillermo Fernandez"
   ]
  },
  {
   "cell_type": "markdown",
   "metadata": {},
   "source": [
    "#### Importar librerías necesarias"
   ]
  },
  {
   "cell_type": "code",
   "execution_count": 2,
   "metadata": {},
   "outputs": [],
   "source": [
    "# Librería para trabajar con los datasets\n",
    "import pandas as pd\n",
    "import numpy as np\n",
    "\n",
    "# Módulo para trabajar con rutas de archivo\n",
    "from pathlib import Path\n",
    "\n",
    "# Librería para identificar encondings\n",
    "import chardet\n",
    "\n",
    "# Librería y módulos para cargar datasets en MySQL\n",
    "import pymysql\n",
    "from sqlalchemy.engine import create_engine\n",
    "from urllib.parse import quote_plus as urlquote\n",
    "from Pass_SQL import contraseña"
   ]
  },
  {
   "cell_type": "markdown",
   "metadata": {},
   "source": [
    "#### Crear una función para importar los datasets"
   ]
  },
  {
   "cell_type": "code",
   "execution_count": 3,
   "metadata": {},
   "outputs": [],
   "source": [
    "def upload(filepath):\n",
    "    with open(filepath, 'rb') as file:\n",
    "        result = chardet.detect(file.read())\n",
    "        # Para importar archivos csv, detectando encoding\n",
    "        if Path(filepath).suffix == \".csv\": \n",
    "            DF = pd.read_csv(filepath, encoding=result['encoding'])\n",
    "        # Para importar archivos json\n",
    "        elif Path(filepath).suffix == \".json\": \n",
    "            DF = pd.read_json(filepath) \n",
    "    return DF"
   ]
  },
  {
   "cell_type": "markdown",
   "metadata": {},
   "source": [
    "#### Cargar los datasets y explorarlos (EDA)"
   ]
  },
  {
   "attachments": {},
   "cell_type": "markdown",
   "metadata": {},
   "source": [
    "##### Comenzar con amazon"
   ]
  },
  {
   "cell_type": "code",
   "execution_count": 4,
   "metadata": {},
   "outputs": [],
   "source": [
    "# Cargamos el dataset\n",
    "amazon_df = upload(r'C:\\Users\\eugen\\Documents\\Guille\\Bootcamp\\PI01_API_Docker\\Datasets\\amazon_prime_titles.csv')"
   ]
  },
  {
   "cell_type": "code",
   "execution_count": 5,
   "metadata": {},
   "outputs": [
    {
     "data": {
      "text/html": [
       "<div>\n",
       "<style scoped>\n",
       "    .dataframe tbody tr th:only-of-type {\n",
       "        vertical-align: middle;\n",
       "    }\n",
       "\n",
       "    .dataframe tbody tr th {\n",
       "        vertical-align: top;\n",
       "    }\n",
       "\n",
       "    .dataframe thead th {\n",
       "        text-align: right;\n",
       "    }\n",
       "</style>\n",
       "<table border=\"1\" class=\"dataframe\">\n",
       "  <thead>\n",
       "    <tr style=\"text-align: right;\">\n",
       "      <th></th>\n",
       "      <th>show_id</th>\n",
       "      <th>type</th>\n",
       "      <th>title</th>\n",
       "      <th>director</th>\n",
       "      <th>cast</th>\n",
       "      <th>country</th>\n",
       "      <th>date_added</th>\n",
       "      <th>release_year</th>\n",
       "      <th>rating</th>\n",
       "      <th>duration</th>\n",
       "      <th>listed_in</th>\n",
       "      <th>description</th>\n",
       "    </tr>\n",
       "  </thead>\n",
       "  <tbody>\n",
       "    <tr>\n",
       "      <th>9573</th>\n",
       "      <td>s9574</td>\n",
       "      <td>Movie</td>\n",
       "      <td>The Shadow</td>\n",
       "      <td>Juan Antonio Chavero Briones</td>\n",
       "      <td>Rafa Blanes, Silvia Navarro, Carla Córdoba</td>\n",
       "      <td>NaN</td>\n",
       "      <td>NaN</td>\n",
       "      <td>2021</td>\n",
       "      <td>16+</td>\n",
       "      <td>114 min</td>\n",
       "      <td>Science Fiction, Suspense</td>\n",
       "      <td>Juan and Lucía are two survivors in a post-apo...</td>\n",
       "    </tr>\n",
       "  </tbody>\n",
       "</table>\n",
       "</div>"
      ],
      "text/plain": [
       "     show_id   type       title                      director  \\\n",
       "9573   s9574  Movie  The Shadow  Juan Antonio Chavero Briones   \n",
       "\n",
       "                                            cast country date_added  \\\n",
       "9573  Rafa Blanes, Silvia Navarro, Carla Córdoba     NaN        NaN   \n",
       "\n",
       "      release_year rating duration                  listed_in  \\\n",
       "9573          2021    16+  114 min  Science Fiction, Suspense   \n",
       "\n",
       "                                            description  \n",
       "9573  Juan and Lucía are two survivors in a post-apo...  "
      ]
     },
     "execution_count": 5,
     "metadata": {},
     "output_type": "execute_result"
    }
   ],
   "source": [
    "# Tomamos una fila al azar para analizarlo\n",
    "amazon_df.sample(1)"
   ]
  },
  {
   "cell_type": "code",
   "execution_count": 6,
   "metadata": {},
   "outputs": [],
   "source": [
    "# Eliminamos los datos duplicados\n",
    "amazon_df.drop_duplicates();"
   ]
  },
  {
   "cell_type": "code",
   "execution_count": 7,
   "metadata": {},
   "outputs": [
    {
     "name": "stdout",
     "output_type": "stream",
     "text": [
      "<class 'pandas.core.frame.DataFrame'>\n",
      "RangeIndex: 9668 entries, 0 to 9667\n",
      "Data columns (total 12 columns):\n",
      " #   Column        Non-Null Count  Dtype \n",
      "---  ------        --------------  ----- \n",
      " 0   show_id       9668 non-null   object\n",
      " 1   type          9668 non-null   object\n",
      " 2   title         9668 non-null   object\n",
      " 3   director      7586 non-null   object\n",
      " 4   cast          8435 non-null   object\n",
      " 5   country       672 non-null    object\n",
      " 6   date_added    155 non-null    object\n",
      " 7   release_year  9668 non-null   int64 \n",
      " 8   rating        9331 non-null   object\n",
      " 9   duration      9668 non-null   object\n",
      " 10  listed_in     9668 non-null   object\n",
      " 11  description   9668 non-null   object\n",
      "dtypes: int64(1), object(11)\n",
      "memory usage: 906.5+ KB\n"
     ]
    }
   ],
   "source": [
    "# Evaluamos información del dataset, como Dtype y nulos\n",
    "amazon_df.info()"
   ]
  },
  {
   "attachments": {},
   "cell_type": "markdown",
   "metadata": {},
   "source": [
    "##### Seguir con Disney"
   ]
  },
  {
   "cell_type": "code",
   "execution_count": 8,
   "metadata": {},
   "outputs": [],
   "source": [
    "# Realizamos los mismos pasos que en amazon\n",
    "disney_df = upload(r'C:\\Users\\eugen\\Documents\\Guille\\Bootcamp\\PI01_API_Docker\\Datasets\\disney_plus_titles.csv')"
   ]
  },
  {
   "cell_type": "code",
   "execution_count": 9,
   "metadata": {},
   "outputs": [],
   "source": [
    "disney_df.drop_duplicates();"
   ]
  },
  {
   "cell_type": "code",
   "execution_count": 10,
   "metadata": {},
   "outputs": [
    {
     "data": {
      "text/html": [
       "<div>\n",
       "<style scoped>\n",
       "    .dataframe tbody tr th:only-of-type {\n",
       "        vertical-align: middle;\n",
       "    }\n",
       "\n",
       "    .dataframe tbody tr th {\n",
       "        vertical-align: top;\n",
       "    }\n",
       "\n",
       "    .dataframe thead th {\n",
       "        text-align: right;\n",
       "    }\n",
       "</style>\n",
       "<table border=\"1\" class=\"dataframe\">\n",
       "  <thead>\n",
       "    <tr style=\"text-align: right;\">\n",
       "      <th></th>\n",
       "      <th>show_id</th>\n",
       "      <th>type</th>\n",
       "      <th>title</th>\n",
       "      <th>director</th>\n",
       "      <th>cast</th>\n",
       "      <th>country</th>\n",
       "      <th>date_added</th>\n",
       "      <th>release_year</th>\n",
       "      <th>rating</th>\n",
       "      <th>duration</th>\n",
       "      <th>listed_in</th>\n",
       "      <th>description</th>\n",
       "    </tr>\n",
       "  </thead>\n",
       "  <tbody>\n",
       "    <tr>\n",
       "      <th>1328</th>\n",
       "      <td>s1329</td>\n",
       "      <td>Movie</td>\n",
       "      <td>The Rescuers Down Under</td>\n",
       "      <td>Hendel Butoy, Mike Gabriel</td>\n",
       "      <td>Bob Newhart, Eva Gabor, John Candy, Tristan Ro...</td>\n",
       "      <td>United States</td>\n",
       "      <td>November 12, 2019</td>\n",
       "      <td>1990</td>\n",
       "      <td>G</td>\n",
       "      <td>78 min</td>\n",
       "      <td>Action-Adventure, Animation, Family</td>\n",
       "      <td>Bernard and Bianca race to Australia to save a...</td>\n",
       "    </tr>\n",
       "  </tbody>\n",
       "</table>\n",
       "</div>"
      ],
      "text/plain": [
       "     show_id   type                    title                    director  \\\n",
       "1328   s1329  Movie  The Rescuers Down Under  Hendel Butoy, Mike Gabriel   \n",
       "\n",
       "                                                   cast        country  \\\n",
       "1328  Bob Newhart, Eva Gabor, John Candy, Tristan Ro...  United States   \n",
       "\n",
       "             date_added  release_year rating duration  \\\n",
       "1328  November 12, 2019          1990      G   78 min   \n",
       "\n",
       "                                listed_in  \\\n",
       "1328  Action-Adventure, Animation, Family   \n",
       "\n",
       "                                            description  \n",
       "1328  Bernard and Bianca race to Australia to save a...  "
      ]
     },
     "execution_count": 10,
     "metadata": {},
     "output_type": "execute_result"
    }
   ],
   "source": [
    "disney_df.sample(1)"
   ]
  },
  {
   "cell_type": "code",
   "execution_count": 11,
   "metadata": {},
   "outputs": [
    {
     "name": "stdout",
     "output_type": "stream",
     "text": [
      "<class 'pandas.core.frame.DataFrame'>\n",
      "RangeIndex: 1450 entries, 0 to 1449\n",
      "Data columns (total 12 columns):\n",
      " #   Column        Non-Null Count  Dtype \n",
      "---  ------        --------------  ----- \n",
      " 0   show_id       1450 non-null   object\n",
      " 1   type          1450 non-null   object\n",
      " 2   title         1450 non-null   object\n",
      " 3   director      977 non-null    object\n",
      " 4   cast          1260 non-null   object\n",
      " 5   country       1231 non-null   object\n",
      " 6   date_added    1447 non-null   object\n",
      " 7   release_year  1450 non-null   int64 \n",
      " 8   rating        1447 non-null   object\n",
      " 9   duration      1450 non-null   object\n",
      " 10  listed_in     1450 non-null   object\n",
      " 11  description   1450 non-null   object\n",
      "dtypes: int64(1), object(11)\n",
      "memory usage: 136.1+ KB\n"
     ]
    }
   ],
   "source": [
    "disney_df.info()"
   ]
  },
  {
   "attachments": {},
   "cell_type": "markdown",
   "metadata": {},
   "source": [
    "##### Seguir con Hulu"
   ]
  },
  {
   "cell_type": "code",
   "execution_count": 12,
   "metadata": {},
   "outputs": [],
   "source": [
    "# Nuevamente, con Hulu\n",
    "hulu_df = upload(r'C:\\Users\\eugen\\Documents\\Guille\\Bootcamp\\PI01_API_Docker\\Datasets\\hulu_titles.csv')"
   ]
  },
  {
   "cell_type": "code",
   "execution_count": 13,
   "metadata": {},
   "outputs": [
    {
     "data": {
      "text/html": [
       "<div>\n",
       "<style scoped>\n",
       "    .dataframe tbody tr th:only-of-type {\n",
       "        vertical-align: middle;\n",
       "    }\n",
       "\n",
       "    .dataframe tbody tr th {\n",
       "        vertical-align: top;\n",
       "    }\n",
       "\n",
       "    .dataframe thead th {\n",
       "        text-align: right;\n",
       "    }\n",
       "</style>\n",
       "<table border=\"1\" class=\"dataframe\">\n",
       "  <thead>\n",
       "    <tr style=\"text-align: right;\">\n",
       "      <th></th>\n",
       "      <th>show_id</th>\n",
       "      <th>type</th>\n",
       "      <th>title</th>\n",
       "      <th>director</th>\n",
       "      <th>cast</th>\n",
       "      <th>country</th>\n",
       "      <th>date_added</th>\n",
       "      <th>release_year</th>\n",
       "      <th>rating</th>\n",
       "      <th>duration</th>\n",
       "      <th>listed_in</th>\n",
       "      <th>description</th>\n",
       "    </tr>\n",
       "  </thead>\n",
       "  <tbody>\n",
       "    <tr>\n",
       "      <th>1140</th>\n",
       "      <td>s1141</td>\n",
       "      <td>Movie</td>\n",
       "      <td>Rebuilding Paradise</td>\n",
       "      <td>NaN</td>\n",
       "      <td>NaN</td>\n",
       "      <td>United States</td>\n",
       "      <td>December 2, 2020</td>\n",
       "      <td>2020</td>\n",
       "      <td>TV-14</td>\n",
       "      <td>88 min</td>\n",
       "      <td>Documentaries</td>\n",
       "      <td>Ron Howard’s Rebuilding Paradise follows the P...</td>\n",
       "    </tr>\n",
       "  </tbody>\n",
       "</table>\n",
       "</div>"
      ],
      "text/plain": [
       "     show_id   type                title director  cast        country  \\\n",
       "1140   s1141  Movie  Rebuilding Paradise      NaN   NaN  United States   \n",
       "\n",
       "            date_added  release_year rating duration      listed_in  \\\n",
       "1140  December 2, 2020          2020  TV-14   88 min  Documentaries   \n",
       "\n",
       "                                            description  \n",
       "1140  Ron Howard’s Rebuilding Paradise follows the P...  "
      ]
     },
     "execution_count": 13,
     "metadata": {},
     "output_type": "execute_result"
    }
   ],
   "source": [
    "hulu_df.sample(1)"
   ]
  },
  {
   "cell_type": "code",
   "execution_count": 14,
   "metadata": {},
   "outputs": [
    {
     "name": "stdout",
     "output_type": "stream",
     "text": [
      "<class 'pandas.core.frame.DataFrame'>\n",
      "RangeIndex: 3073 entries, 0 to 3072\n",
      "Data columns (total 12 columns):\n",
      " #   Column        Non-Null Count  Dtype  \n",
      "---  ------        --------------  -----  \n",
      " 0   show_id       3073 non-null   object \n",
      " 1   type          3073 non-null   object \n",
      " 2   title         3073 non-null   object \n",
      " 3   director      3 non-null      object \n",
      " 4   cast          0 non-null      float64\n",
      " 5   country       1620 non-null   object \n",
      " 6   date_added    3045 non-null   object \n",
      " 7   release_year  3073 non-null   int64  \n",
      " 8   rating        2553 non-null   object \n",
      " 9   duration      2594 non-null   object \n",
      " 10  listed_in     3073 non-null   object \n",
      " 11  description   3069 non-null   object \n",
      "dtypes: float64(1), int64(1), object(10)\n",
      "memory usage: 288.2+ KB\n"
     ]
    }
   ],
   "source": [
    "hulu_df.info()"
   ]
  },
  {
   "attachments": {},
   "cell_type": "markdown",
   "metadata": {},
   "source": [
    "##### Por último, cargar Netflix"
   ]
  },
  {
   "cell_type": "code",
   "execution_count": 15,
   "metadata": {},
   "outputs": [],
   "source": [
    "# Finalizamos con Netflix\n",
    "netflix_df = upload(r'C:\\Users\\eugen\\Documents\\Guille\\Bootcamp\\PI01_API_Docker\\Datasets\\netflix_titles.json')"
   ]
  },
  {
   "cell_type": "code",
   "execution_count": 16,
   "metadata": {},
   "outputs": [
    {
     "data": {
      "text/html": [
       "<div>\n",
       "<style scoped>\n",
       "    .dataframe tbody tr th:only-of-type {\n",
       "        vertical-align: middle;\n",
       "    }\n",
       "\n",
       "    .dataframe tbody tr th {\n",
       "        vertical-align: top;\n",
       "    }\n",
       "\n",
       "    .dataframe thead th {\n",
       "        text-align: right;\n",
       "    }\n",
       "</style>\n",
       "<table border=\"1\" class=\"dataframe\">\n",
       "  <thead>\n",
       "    <tr style=\"text-align: right;\">\n",
       "      <th></th>\n",
       "      <th>show_id</th>\n",
       "      <th>type</th>\n",
       "      <th>title</th>\n",
       "      <th>director</th>\n",
       "      <th>cast</th>\n",
       "      <th>country</th>\n",
       "      <th>date_added</th>\n",
       "      <th>release_year</th>\n",
       "      <th>rating</th>\n",
       "      <th>duration</th>\n",
       "      <th>listed_in</th>\n",
       "      <th>description</th>\n",
       "    </tr>\n",
       "  </thead>\n",
       "  <tbody>\n",
       "    <tr>\n",
       "      <th>6384</th>\n",
       "      <td>s6385</td>\n",
       "      <td>Movie</td>\n",
       "      <td>Bruno and Boots: This Can't Be Happening at Ma...</td>\n",
       "      <td>Vivieno Caldinelli</td>\n",
       "      <td>Jonny Gray, Callan Potter, Peter Keleghan, Car...</td>\n",
       "      <td>Canada</td>\n",
       "      <td>June 24, 2017</td>\n",
       "      <td>2017</td>\n",
       "      <td>TV-PG</td>\n",
       "      <td>90 min</td>\n",
       "      <td>Children &amp; Family Movies, Comedies</td>\n",
       "      <td>The biggest troublemakers at Macdonald Hall ar...</td>\n",
       "    </tr>\n",
       "  </tbody>\n",
       "</table>\n",
       "</div>"
      ],
      "text/plain": [
       "     show_id   type                                              title  \\\n",
       "6384   s6385  Movie  Bruno and Boots: This Can't Be Happening at Ma...   \n",
       "\n",
       "                director                                               cast  \\\n",
       "6384  Vivieno Caldinelli  Jonny Gray, Callan Potter, Peter Keleghan, Car...   \n",
       "\n",
       "     country     date_added  release_year rating duration  \\\n",
       "6384  Canada  June 24, 2017          2017  TV-PG   90 min   \n",
       "\n",
       "                               listed_in  \\\n",
       "6384  Children & Family Movies, Comedies   \n",
       "\n",
       "                                            description  \n",
       "6384  The biggest troublemakers at Macdonald Hall ar...  "
      ]
     },
     "execution_count": 16,
     "metadata": {},
     "output_type": "execute_result"
    }
   ],
   "source": [
    "netflix_df.sample(1)"
   ]
  },
  {
   "cell_type": "code",
   "execution_count": 17,
   "metadata": {},
   "outputs": [
    {
     "name": "stdout",
     "output_type": "stream",
     "text": [
      "<class 'pandas.core.frame.DataFrame'>\n",
      "Int64Index: 8807 entries, 0 to 8806\n",
      "Data columns (total 12 columns):\n",
      " #   Column        Non-Null Count  Dtype \n",
      "---  ------        --------------  ----- \n",
      " 0   show_id       8807 non-null   object\n",
      " 1   type          8807 non-null   object\n",
      " 2   title         8807 non-null   object\n",
      " 3   director      6173 non-null   object\n",
      " 4   cast          7982 non-null   object\n",
      " 5   country       7976 non-null   object\n",
      " 6   date_added    8797 non-null   object\n",
      " 7   release_year  8807 non-null   int64 \n",
      " 8   rating        8803 non-null   object\n",
      " 9   duration      8804 non-null   object\n",
      " 10  listed_in     8807 non-null   object\n",
      " 11  description   8807 non-null   object\n",
      "dtypes: int64(1), object(11)\n",
      "memory usage: 894.5+ KB\n"
     ]
    }
   ],
   "source": [
    "netflix_df.info()"
   ]
  },
  {
   "attachments": {},
   "cell_type": "markdown",
   "metadata": {},
   "source": [
    "##### Buscamos completar los datos faltantes de algunos datasets, con los datos de otros"
   ]
  },
  {
   "cell_type": "code",
   "execution_count": 18,
   "metadata": {},
   "outputs": [],
   "source": [
    "# Ponemos el título como índice\n",
    "amazon_df.set_index('title', drop=True, inplace=True)\n",
    "disney_df.set_index('title', drop=True, inplace=True)\n",
    "hulu_df.set_index('title', drop=True, inplace=True)\n",
    "netflix_df.set_index('title', drop=True, inplace=True)\n"
   ]
  },
  {
   "cell_type": "code",
   "execution_count": 19,
   "metadata": {},
   "outputs": [],
   "source": [
    "# Completamos campos nulos que coincidan en el nombre del título\n",
    "amazon_df.fillna(disney_df, inplace=True)\n",
    "amazon_df.fillna(hulu_df, inplace=True)\n",
    "amazon_df.fillna(netflix_df, inplace=True)\n",
    "\n",
    "disney_df.fillna(amazon_df, inplace=True)\n",
    "disney_df.fillna(hulu_df, inplace=True)\n",
    "disney_df.fillna(netflix_df, inplace=True)\n",
    "\n",
    "hulu_df.fillna(amazon_df, inplace=True)\n",
    "hulu_df.fillna(disney_df, inplace=True)\n",
    "hulu_df.fillna(netflix_df, inplace=True)\n",
    "\n",
    "netflix_df.fillna(amazon_df, inplace=True)\n",
    "netflix_df.fillna(disney_df, inplace=True)\n",
    "netflix_df.fillna(hulu_df, inplace=True)"
   ]
  },
  {
   "cell_type": "markdown",
   "metadata": {},
   "source": [
    "#### Unir los 4 datasets"
   ]
  },
  {
   "cell_type": "code",
   "execution_count": 20,
   "metadata": {},
   "outputs": [],
   "source": [
    "# Crear una columna con el nombre de la plataforma en cada Dataset\n",
    "amazon_df['Platform'] = 'Amazon'\n",
    "disney_df['Platform'] = 'Disney'\n",
    "hulu_df['Platform'] = 'Hulu'\n",
    "netflix_df['Platform'] = 'Netflix'"
   ]
  },
  {
   "cell_type": "code",
   "execution_count": 21,
   "metadata": {},
   "outputs": [],
   "source": [
    "# Crear un dataset que una todos los otros datasets\n",
    "Platform = [disney_df, hulu_df, netflix_df]\n",
    "Titles_df = amazon_df\n",
    "for element in Platform:\n",
    "    Titles_df = pd.concat([Titles_df, element])\n",
    "del Platform"
   ]
  },
  {
   "cell_type": "code",
   "execution_count": 22,
   "metadata": {},
   "outputs": [
    {
     "name": "stdout",
     "output_type": "stream",
     "text": [
      "<class 'pandas.core.frame.DataFrame'>\n",
      "Index: 22998 entries, The Grand Seduction to Zubaan\n",
      "Data columns (total 12 columns):\n",
      " #   Column        Non-Null Count  Dtype \n",
      "---  ------        --------------  ----- \n",
      " 0   show_id       22998 non-null  object\n",
      " 1   type          22998 non-null  object\n",
      " 2   director      15058 non-null  object\n",
      " 3   cast          18123 non-null  object\n",
      " 4   country       12078 non-null  object\n",
      " 5   date_added    14017 non-null  object\n",
      " 6   release_year  22998 non-null  int64 \n",
      " 7   rating        22188 non-null  object\n",
      " 8   duration      22571 non-null  object\n",
      " 9   listed_in     22998 non-null  object\n",
      " 10  description   22994 non-null  object\n",
      " 11  Platform      22998 non-null  object\n",
      "dtypes: int64(1), object(11)\n",
      "memory usage: 2.3+ MB\n"
     ]
    }
   ],
   "source": [
    "# Exploramos el dataset que incluye a todos\n",
    "Titles_df.info()"
   ]
  },
  {
   "cell_type": "code",
   "execution_count": 23,
   "metadata": {},
   "outputs": [],
   "source": [
    "# Reseteamos indices, para evitar errores\n",
    "Titles_df.reset_index(inplace=True)"
   ]
  },
  {
   "cell_type": "markdown",
   "metadata": {},
   "source": [
    "#### Realizar una parte del ETL en Python"
   ]
  },
  {
   "cell_type": "code",
   "execution_count": 24,
   "metadata": {},
   "outputs": [
    {
     "data": {
      "text/plain": [
       "['title',\n",
       " 'show_id',\n",
       " 'type',\n",
       " 'director',\n",
       " 'cast',\n",
       " 'country',\n",
       " 'date_added',\n",
       " 'release_year',\n",
       " 'rating',\n",
       " 'listed_in',\n",
       " 'description',\n",
       " 'Platform']"
      ]
     },
     "execution_count": 24,
     "metadata": {},
     "output_type": "execute_result"
    }
   ],
   "source": [
    "# Tomamos todas las columnas del Dataset, excepto duration\n",
    "Columnas = list(Titles_df.columns)\n",
    "Columnas.remove('duration')\n",
    "Columnas"
   ]
  },
  {
   "cell_type": "code",
   "execution_count": 25,
   "metadata": {},
   "outputs": [],
   "source": [
    "# Rellenamos los valores nulos\n",
    "for _, e in enumerate(Columnas):\n",
    "    Titles_df[e].fillna(\"Sin_datos\", inplace=True)"
   ]
  },
  {
   "cell_type": "code",
   "execution_count": 26,
   "metadata": {},
   "outputs": [],
   "source": [
    "# En la columna duration, lo llenamos con ceros\n",
    "Titles_df.duration.fillna(0, inplace=True)"
   ]
  },
  {
   "cell_type": "code",
   "execution_count": 27,
   "metadata": {},
   "outputs": [],
   "source": [
    "# Eliminamos espacios al principio y al final de las celdas\n",
    "Titles_df = Titles_df.apply(lambda x: x.strip() if type(x) == str else x)"
   ]
  },
  {
   "cell_type": "markdown",
   "metadata": {},
   "source": [
    "#### Realizar la carga de los datos en MySQL"
   ]
  },
  {
   "cell_type": "markdown",
   "metadata": {},
   "source": [
    "###### Primero debemos crear la Base de Datos, con el archivo ETL_Script.sql"
   ]
  },
  {
   "cell_type": "code",
   "execution_count": null,
   "metadata": {},
   "outputs": [],
   "source": [
    "# Utilizamos la conexion al servidor de MySQL para cargar los datasets a la base de datos\n",
    "str_conexion = 'mysql+pymysql://root:%s@localhost:3306/PI01' % urlquote(contraseña())\n",
    "conexion = create_engine(str_conexion)"
   ]
  },
  {
   "cell_type": "code",
   "execution_count": null,
   "metadata": {},
   "outputs": [],
   "source": [
    "# Cargamos el dataset en una tabla\n",
    "Titles_df.to_sql(name='title', con=conexion);"
   ]
  },
  {
   "cell_type": "code",
   "execution_count": null,
   "metadata": {},
   "outputs": [],
   "source": [
    "# Cargamos los actores en un nuevo dataframe\n",
    "Actors_df = Titles_df[[\"title\", \"cast\"]]\n",
    "# Separamos cada valor\n",
    "Actors_df.cast = Actors_df.cast.str.split(\",\")\n",
    "# Los colocamos en una fila nueva\n",
    "Actors_df = Actors_df.explode(\"cast\")\n",
    "# Eliminamos espacios vacíos\n",
    "Actors_df.cast = Actors_df.cast.str.strip()\n",
    "# Cargamos el df en una tabla\n",
    "Actors_df.to_sql(name='actor', con=conexion);"
   ]
  },
  {
   "cell_type": "code",
   "execution_count": null,
   "metadata": {},
   "outputs": [],
   "source": [
    "# Cargamos los géneros en un nuevo dataframe\n",
    "Genre_df = Titles_df[[\"title\", \"listed_in\"]]\n",
    "# Separamos cada valor\n",
    "Genre_df.listed_in = Genre_df.listed_in.str.split(\",\")\n",
    "# Los colocamos en una fila nueva\n",
    "Genre_df = Genre_df.explode(\"listed_in\")\n",
    "# Eliminamos espacios vacíos\n",
    "Genre_df.listed_in = Genre_df.listed_in.str.strip()\n",
    "# Cargamos el df en una tabla\n",
    "Genre_df.to_sql(name='genre', con=conexion);"
   ]
  },
  {
   "attachments": {},
   "cell_type": "markdown",
   "metadata": {},
   "source": [
    "###### Ejecutamos las querys del archivo ETL_Script.sql para realizar transformaciones"
   ]
  },
  {
   "attachments": {},
   "cell_type": "markdown",
   "metadata": {},
   "source": [
    "#### Luego de realizar transformaciones en SQL, cargar la Base de datos limpia"
   ]
  },
  {
   "cell_type": "code",
   "execution_count": null,
   "metadata": {},
   "outputs": [],
   "source": [
    "# Cargamos el Dataframe limpio\n",
    "sql_query = pd.read_sql_query('SELECT * FROM title', conexion)\n",
    "Titles_df = pd.DataFrame(sql_query);"
   ]
  },
  {
   "cell_type": "code",
   "execution_count": null,
   "metadata": {},
   "outputs": [],
   "source": [
    "# Pasamos a CSV para consumirlo con la API\n",
    "Titles_df.to_csv(r'C:\\Users\\eugen\\Documents\\Guille\\Bootcamp\\PI01_DATA05\\Datasets\\All_titles.csv', index=False)"
   ]
  },
  {
   "attachments": {},
   "cell_type": "markdown",
   "metadata": {},
   "source": [
    "Teniendo el CSV limpio, ya está listo para que la API lo cargue y se puedan realizar las consultas"
   ]
  }
 ],
 "metadata": {
  "kernelspec": {
   "display_name": "Python 3.10.5 64-bit",
   "language": "python",
   "name": "python3"
  },
  "language_info": {
   "codemirror_mode": {
    "name": "ipython",
    "version": 3
   },
   "file_extension": ".py",
   "mimetype": "text/x-python",
   "name": "python",
   "nbconvert_exporter": "python",
   "pygments_lexer": "ipython3",
   "version": "3.10.5"
  },
  "orig_nbformat": 4,
  "vscode": {
   "interpreter": {
    "hash": "8030d4c8b54922542ddcca872d6eaa3b90843e3fd85d80bb02c262de6532e63b"
   }
  }
 },
 "nbformat": 4,
 "nbformat_minor": 2
}
